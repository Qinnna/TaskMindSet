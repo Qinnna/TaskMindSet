{
  "cells": [
    {
      "cell_type": "code",
      "execution_count": null,
      "id": "78d0854c",
      "metadata": {
        "id": "78d0854c",
        "outputId": "c9e553d4-fb6d-4cf5-a277-627a40bc6c22"
      },
      "outputs": [
        {
          "name": "stdout",
          "output_type": "stream",
          "text": [
            "Requirement already satisfied: neo4j in d:\\python\\lib\\site-packages (5.5.0)Note: you may need to restart the kernel to use updated packages.\n",
            "\n",
            "Requirement already satisfied: pytz in d:\\python\\lib\\site-packages (from neo4j) (2022.6)\n"
          ]
        },
        {
          "name": "stderr",
          "output_type": "stream",
          "text": [
            "WARNING: You are using pip version 21.2.3; however, version 23.0.1 is available.\n",
            "You should consider upgrading via the 'd:\\python\\python.exe -m pip install --upgrade pip' command.\n"
          ]
        }
      ],
      "source": [
        "pip install neo4j"
      ]
    },
    {
      "cell_type": "code",
      "execution_count": null,
      "id": "51a10c1a",
      "metadata": {
        "id": "51a10c1a"
      },
      "outputs": [],
      "source": [
        "from neo4j import GraphDatabase"
      ]
    },
    {
      "cell_type": "markdown",
      "source": [
        "# Быстрый взгляд на данные"
      ],
      "metadata": {
        "id": "rpzEohbvufNi"
      },
      "id": "rpzEohbvufNi"
    },
    {
      "cell_type": "code",
      "execution_count": null,
      "id": "449458bd",
      "metadata": {
        "id": "449458bd"
      },
      "outputs": [],
      "source": [
        "import pandas as pd\n",
        "import numpy as np"
      ]
    },
    {
      "cell_type": "code",
      "execution_count": null,
      "id": "26b03ed4",
      "metadata": {
        "id": "26b03ed4"
      },
      "outputs": [],
      "source": [
        "data = pd.read_csv('data_test.csv', sep=';')"
      ]
    },
    {
      "cell_type": "code",
      "execution_count": null,
      "id": "137e444c",
      "metadata": {
        "id": "137e444c",
        "outputId": "4984654f-78a9-481c-d3b3-d16b3fb28161"
      },
      "outputs": [
        {
          "data": {
            "text/plain": [
              "id события                 False\n",
              "ФИО участника события 1    False\n",
              "ФИО участника события 2    False\n",
              "dtype: bool"
            ]
          },
          "execution_count": 7,
          "metadata": {},
          "output_type": "execute_result"
        }
      ],
      "source": [
        "data.isnull().any()"
      ]
    },
    {
      "cell_type": "markdown",
      "source": [
        "**Пустых и нулевых строк нет**"
      ],
      "metadata": {
        "id": "65VUT-TWv5Av"
      },
      "id": "65VUT-TWv5Av"
    },
    {
      "cell_type": "code",
      "execution_count": null,
      "id": "da5ec162",
      "metadata": {
        "id": "da5ec162",
        "outputId": "3ebbeb0e-e2aa-4c33-91bc-71ff09b8183f"
      },
      "outputs": [
        {
          "data": {
            "text/plain": [
              "1    4970\n",
              "2      15\n",
              "Name: id события, dtype: int64"
            ]
          },
          "execution_count": 10,
          "metadata": {},
          "output_type": "execute_result"
        }
      ],
      "source": [
        "data['id события'].value_counts().value_counts()"
      ]
    },
    {
      "cell_type": "markdown",
      "source": [
        "**Всего оказалось 15 строк с одинаковыми id, т.е. есть 15 групп по 4 человека.**"
      ],
      "metadata": {
        "id": "ifEii0NqvmCM"
      },
      "id": "ifEii0NqvmCM"
    },
    {
      "cell_type": "code",
      "execution_count": null,
      "id": "b49da7f8",
      "metadata": {
        "id": "b49da7f8",
        "outputId": "c0b31f0d-e761-4ef1-d5bc-ea1bf267d4bd"
      },
      "outputs": [
        {
          "data": {
            "text/plain": [
              "0"
            ]
          },
          "execution_count": 28,
          "metadata": {},
          "output_type": "execute_result"
        }
      ],
      "source": [
        "len(data)- len(data.drop_duplicates())"
      ]
    },
    {
      "cell_type": "markdown",
      "source": [
        "**Повторяющихся строк нет**"
      ],
      "metadata": {
        "id": "hChDu1YZvx3Y"
      },
      "id": "hChDu1YZvx3Y"
    },
    {
      "cell_type": "markdown",
      "source": [
        "# Подключение базы и создание сущностей\n"
      ],
      "metadata": {
        "id": "-DnY3M0dvFXR"
      },
      "id": "-DnY3M0dvFXR"
    },
    {
      "cell_type": "markdown",
      "source": [
        "**Создадим для удобства класс для подключения бд**"
      ],
      "metadata": {
        "id": "n6ACe8cVyZ7W"
      },
      "id": "n6ACe8cVyZ7W"
    },
    {
      "cell_type": "code",
      "execution_count": null,
      "id": "eb344540",
      "metadata": {
        "id": "eb344540"
      },
      "outputs": [],
      "source": [
        "class Neo4jConnection:\n",
        "    def __init__(self, uri, user, password):\n",
        "        self.driver = GraphDatabase.driver(uri, auth=(user, password))\n",
        "\n",
        "    def close(self):\n",
        "        if self.driver is not None:\n",
        "            self.driver.close()\n",
        "\n",
        "# Метод, который передает запрос в БД\n",
        "    def query(self, query, db=None):\n",
        "        assert self.driver is not None, \"Driver not initialized!\"\n",
        "        session = None\n",
        "        response = None\n",
        "        try:\n",
        "            session = self.driver.session(database=db) if db is not None else self.driver.session()\n",
        "            response = list(session.run(query))\n",
        "        except Exception as e:\n",
        "            print(\"Query failed:\", e)\n",
        "        finally:\n",
        "            if session is not None:\n",
        "                session.close()\n",
        "        return response"
      ]
    },
    {
      "cell_type": "code",
      "execution_count": null,
      "id": "6cd07978",
      "metadata": {
        "id": "6cd07978",
        "outputId": "c2b53a2a-3abe-42dc-8d8d-ae642d0dfe8c"
      },
      "outputs": [
        {
          "data": {
            "text/plain": [
              "[]"
            ]
          },
          "execution_count": 38,
          "metadata": {},
          "output_type": "execute_result"
        }
      ],
      "source": [
        "conn = Neo4jConnection(uri=\"\", user=\"\", password=\"\")\n",
        "conn.query(\"CREATE OR REPLACE DATABASE graphDb\")"
      ]
    },
    {
      "cell_type": "markdown",
      "source": [
        "Считаем построчно csv файл и создадим объекты Person со свойствами name и event_id\n",
        "\n",
        "*P.S. вручную заголовки поменял на id_event, Full_name1, Full_name2 соответственно*"
      ],
      "metadata": {
        "id": "5sbQfN0Yysz2"
      },
      "id": "5sbQfN0Yysz2"
    },
    {
      "cell_type": "code",
      "execution_count": null,
      "id": "96e16b77",
      "metadata": {
        "id": "96e16b77",
        "outputId": "7df57c60-5945-490f-fd28-b2384feded87"
      },
      "outputs": [
        {
          "data": {
            "text/plain": [
              "[]"
            ]
          },
          "execution_count": 41,
          "metadata": {},
          "output_type": "execute_result"
        }
      ],
      "source": [
        "query_string = '''\n",
        "LOAD CSV WITH HEADERS FROM\n",
        "'file:///data_test.csv'\n",
        "AS line FIELDTERMINATOR ';'\n",
        "CREATE (p1:Person {name: line.Full_name1, event_id: line.id_event}), (p2:Person {name: line.Full_name2, event_id: line.id_event});\n",
        "'''\n",
        "conn.query(query_string, db='graphDb')"
      ]
    },
    {
      "cell_type": "code",
      "source": [
        "Затем соединим людей, у которых совпадает id события и исключим связывание с собой"
      ],
      "metadata": {
        "id": "dFC61T9QzhHF"
      },
      "id": "dFC61T9QzhHF",
      "execution_count": null,
      "outputs": []
    },
    {
      "cell_type": "code",
      "execution_count": null,
      "id": "58bb92a7",
      "metadata": {
        "id": "58bb92a7",
        "outputId": "721b1a39-76d6-452c-a3ba-b555c02bf79c"
      },
      "outputs": [
        {
          "data": {
            "text/plain": [
              "[]"
            ]
          },
          "execution_count": 48,
          "metadata": {},
          "output_type": "execute_result"
        }
      ],
      "source": [
        "query_string = '''\n",
        "MATCH\n",
        "  (a:Person),\n",
        "  (b:Person)\n",
        "WHERE a.event_id = b.event_id AND a.name <> b.name\n",
        "CREATE (a)-[:common_event]->(b)\n",
        "'''\n",
        "conn.query(query_string, db='graphDb')"
      ]
    }
  ],
  "metadata": {
    "kernelspec": {
      "display_name": "Python 3 (ipykernel)",
      "language": "python",
      "name": "python3"
    },
    "language_info": {
      "codemirror_mode": {
        "name": "ipython",
        "version": 3
      },
      "file_extension": ".py",
      "mimetype": "text/x-python",
      "name": "python",
      "nbconvert_exporter": "python",
      "pygments_lexer": "ipython3",
      "version": "3.9.7"
    },
    "colab": {
      "provenance": [],
      "collapsed_sections": [
        "rpzEohbvufNi"
      ]
    }
  },
  "nbformat": 4,
  "nbformat_minor": 5
}